{
 "cells": [
  {
   "cell_type": "code",
   "execution_count": 1,
   "id": "194c2937",
   "metadata": {
    "ExecuteTime": {
     "end_time": "2023-02-27T18:48:31.733589Z",
     "start_time": "2023-02-27T18:48:19.443327Z"
    }
   },
   "outputs": [
    {
     "name": "stdout",
     "output_type": "stream",
     "text": [
      "\n",
      "Digite a string a ser invertida: 123456\n",
      "\n",
      "A inversão da string \"123456\" resulta \"654321\".\n"
     ]
    }
   ],
   "source": [
    "entrada = input('\\nDigite a string a ser invertida: ')\n",
    "\n",
    "l = len(entrada)-1\n",
    "r = \"\"\n",
    "\n",
    "for i in range(l, -1, -1):\n",
    "    r += entrada[i]\n",
    "\n",
    "print(f'\\nA inversão da string \"{entrada}\" resulta \"{r}\".')"
   ]
  }
 ],
 "metadata": {
  "kernelspec": {
   "display_name": "Python 3 (ipykernel)",
   "language": "python",
   "name": "python3"
  },
  "language_info": {
   "codemirror_mode": {
    "name": "ipython",
    "version": 3
   },
   "file_extension": ".py",
   "mimetype": "text/x-python",
   "name": "python",
   "nbconvert_exporter": "python",
   "pygments_lexer": "ipython3",
   "version": "3.9.16"
  }
 },
 "nbformat": 4,
 "nbformat_minor": 5
}
