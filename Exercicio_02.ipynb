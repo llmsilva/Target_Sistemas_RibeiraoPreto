{
 "cells": [
  {
   "cell_type": "code",
   "execution_count": null,
   "id": "b2cc6816",
   "metadata": {
    "ExecuteTime": {
     "end_time": "2023-02-27T18:46:01.924264Z",
     "start_time": "2023-02-27T18:45:59.167261Z"
    }
   },
   "outputs": [],
   "source": [
    "def fib(n):\n",
    "    seq = [0, 1]\n",
    "    i = 2\n",
    "    x = 0\n",
    "    while x < n + 1:\n",
    "        seq.append(seq[i - 1] + seq[i - 2])\n",
    "        x = seq[i]\n",
    "        i += 1\n",
    "    seq.pop()\n",
    "    return seq\n",
    "\n",
    "\n",
    "n = int(input('Número a ser pesquisado: '))\n",
    "\n",
    "if n in fib(n):\n",
    "    print(f'\\nO número {n} PERTENCE à sequência de Fibonacci.')\n",
    "else:\n",
    "    print(f'\\nO número {n} NÃO PERTENCE à sequência de Fibonacci.')\n",
    "\n",
    "print(f'\\nObs.: sequência de Fibonacci até o número dado:\\n\\n{fib(n)}')"
   ]
  }
 ],
 "metadata": {
  "kernelspec": {
   "display_name": "Python 3 (ipykernel)",
   "language": "python",
   "name": "python3"
  },
  "language_info": {
   "codemirror_mode": {
    "name": "ipython",
    "version": 3
   },
   "file_extension": ".py",
   "mimetype": "text/x-python",
   "name": "python",
   "nbconvert_exporter": "python",
   "pygments_lexer": "ipython3",
   "version": "3.9.16"
  }
 },
 "nbformat": 4,
 "nbformat_minor": 5
}
